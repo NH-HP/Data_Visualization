{
 "cells": [
  {
   "cell_type": "code",
   "execution_count": 2,
   "id": "38362779-124c-4628-9524-de34ebfbff17",
   "metadata": {},
   "outputs": [
    {
     "name": "stdin",
     "output_type": "stream",
     "text": [
      "Enter a number :  3\n"
     ]
    },
    {
     "name": "stdout",
     "output_type": "stream",
     "text": [
      "fn(3) = 1\n"
     ]
    }
   ],
   "source": [
    "def fn(n):\n",
    "    if n == 1:\n",
    "        return 0\n",
    "    elif n == 2:\n",
    "        return 1\n",
    "    else:\n",
    "        return fn(n-1) + fn(n-2)\n",
    "    \n",
    "\n",
    "num = int(input(\"Enter a number : \"))\n",
    "\n",
    "if num > 0:\n",
    "    print(\"fn(\", num, \") = \",fn(num) , sep =\"\")\n",
    "else:\n",
    "    print(\"Error in input\")\n"
   ]
  },
  {
   "cell_type": "code",
   "execution_count": null,
   "id": "260036ca-c2f7-4d47-bd8d-d9623611a542",
   "metadata": {},
   "outputs": [],
   "source": []
  }
 ],
 "metadata": {
  "kernelspec": {
   "display_name": "Python 3 (ipykernel)",
   "language": "python",
   "name": "python3"
  },
  "language_info": {
   "codemirror_mode": {
    "name": "ipython",
    "version": 3
   },
   "file_extension": ".py",
   "mimetype": "text/x-python",
   "name": "python",
   "nbconvert_exporter": "python",
   "pygments_lexer": "ipython3",
   "version": "3.12.7"
  }
 },
 "nbformat": 4,
 "nbformat_minor": 5
}
